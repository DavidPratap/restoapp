{
 "cells": [
  {
   "cell_type": "markdown",
   "id": "a4f0eba4",
   "metadata": {},
   "source": [
    "# Cat DOG Classifier"
   ]
  },
  {
   "cell_type": "code",
   "execution_count": 13,
   "id": "6a9a23bb",
   "metadata": {},
   "outputs": [],
   "source": [
    "import tensorflow as tf"
   ]
  },
  {
   "cell_type": "code",
   "execution_count": 14,
   "id": "415ec709",
   "metadata": {},
   "outputs": [
    {
     "ename": "AttributeError",
     "evalue": "module 'tensorflow' has no attribute 'constant'",
     "output_type": "error",
     "traceback": [
      "\u001b[1;31m---------------------------------------------------------------------------\u001b[0m",
      "\u001b[1;31mAttributeError\u001b[0m                            Traceback (most recent call last)",
      "Cell \u001b[1;32mIn[14], line 1\u001b[0m\n\u001b[1;32m----> 1\u001b[0m hello\u001b[38;5;241m=\u001b[39m\u001b[43mtf\u001b[49m\u001b[38;5;241;43m.\u001b[39;49m\u001b[43mconstant\u001b[49m(\u001b[38;5;124m'\u001b[39m\u001b[38;5;124mhello world !\u001b[39m\u001b[38;5;124m'\u001b[39m)\n",
      "\u001b[1;31mAttributeError\u001b[0m: module 'tensorflow' has no attribute 'constant'"
     ]
    }
   ],
   "source": [
    "hello=tf.constant('hello world !')"
   ]
  },
  {
   "cell_type": "code",
   "execution_count": 15,
   "id": "bb90b2c6",
   "metadata": {},
   "outputs": [
    {
     "ename": "AttributeError",
     "evalue": "module 'tensorflow' has no attribute 'session'",
     "output_type": "error",
     "traceback": [
      "\u001b[1;31m---------------------------------------------------------------------------\u001b[0m",
      "\u001b[1;31mAttributeError\u001b[0m                            Traceback (most recent call last)",
      "Cell \u001b[1;32mIn[15], line 1\u001b[0m\n\u001b[1;32m----> 1\u001b[0m sess\u001b[38;5;241m=\u001b[39m\u001b[43mtf\u001b[49m\u001b[38;5;241;43m.\u001b[39;49m\u001b[43msession\u001b[49m()\n",
      "\u001b[1;31mAttributeError\u001b[0m: module 'tensorflow' has no attribute 'session'"
     ]
    }
   ],
   "source": [
    "sess=tf.session()"
   ]
  },
  {
   "cell_type": "code",
   "execution_count": 16,
   "id": "d01fac62",
   "metadata": {},
   "outputs": [
    {
     "ename": "NameError",
     "evalue": "name 'sess' is not defined",
     "output_type": "error",
     "traceback": [
      "\u001b[1;31m---------------------------------------------------------------------------\u001b[0m",
      "\u001b[1;31mNameError\u001b[0m                                 Traceback (most recent call last)",
      "Cell \u001b[1;32mIn[16], line 1\u001b[0m\n\u001b[1;32m----> 1\u001b[0m \u001b[38;5;28mprint\u001b[39m(\u001b[43msess\u001b[49m\u001b[38;5;241m.\u001b[39mrun(hello))\n",
      "\u001b[1;31mNameError\u001b[0m: name 'sess' is not defined"
     ]
    }
   ],
   "source": [
    "print(sess.run(hello))"
   ]
  },
  {
   "cell_type": "code",
   "execution_count": 1,
   "id": "38bee3de",
   "metadata": {},
   "outputs": [],
   "source": [
    "import os, shutil"
   ]
  },
  {
   "cell_type": "code",
   "execution_count": 2,
   "id": "20d83656",
   "metadata": {},
   "outputs": [],
   "source": [
    "original_data_dir=\"C:/Users/davidpratap/Desktop/rest/kaggle_original_data/train\""
   ]
  },
  {
   "cell_type": "code",
   "execution_count": 5,
   "id": "80ea19e5",
   "metadata": {},
   "outputs": [],
   "source": [
    "shutil.rmtree(base_dir, ignore_errors=True)"
   ]
  },
  {
   "cell_type": "code",
   "execution_count": 6,
   "id": "d096120a",
   "metadata": {},
   "outputs": [],
   "source": [
    "base_dir=\"C:/Users/davidpratap/Desktop/rest/cats_dogs_small\"\n",
    "os.mkdir(base_dir)"
   ]
  },
  {
   "cell_type": "code",
   "execution_count": 7,
   "id": "0a0f6c29",
   "metadata": {},
   "outputs": [],
   "source": [
    "train_dir=\"C:/Users/davidpratap/Desktop/rest/cats_dogs_small/train\"\n",
    "os.mkdir(train_dir)\n",
    "validation_dir=\"C:/Users/davidpratap/Desktop/rest/cats_dogs_small/validation\"\n",
    "os.mkdir(validation_dir)\n",
    "test_dir=\"C:/Users/davidpratap/Desktop/rest/cats_dogs_small/test\"\n",
    "os.mkdir(test_dir)"
   ]
  },
  {
   "cell_type": "code",
   "execution_count": 8,
   "id": "cb64c46b",
   "metadata": {},
   "outputs": [],
   "source": [
    "train_cats_dir=\"C:/Users/davidpratap/Desktop/rest/cats_dogs_small/train/cats\"\n",
    "os.mkdir(train_cats_dir)\n",
    "train_dogs_dir=\"C:/Users/davidpratap/Desktop/rest/cats_dogs_small/train/dogs\"\n",
    "os.mkdir(train_dogs_dir)\n",
    "validation_cats_dir=\"C:/Users/davidpratap/Desktop/rest/cats_dogs_small/validation/cats\"\n",
    "os.mkdir(validation_cats_dir)\n",
    "validation_dogs_dir=\"C:/Users/davidpratap/Desktop/rest/cats_dogs_small/validation/dogs\"\n",
    "os.mkdir(validation_dogs_dir)\n",
    "test_cats_dir=\"C:/Users/davidpratap/Desktop/rest/cats_dogs_small/test/cats\"\n",
    "os.mkdir(test_cats_dir)\n",
    "test_dogs_dir=\"C:/Users/davidpratap/Desktop/rest/cats_dogs_small/test/dogs\"\n",
    "os.mkdir(test_dogs_dir)"
   ]
  },
  {
   "cell_type": "code",
   "execution_count": 9,
   "id": "4c7f2bca",
   "metadata": {},
   "outputs": [],
   "source": [
    "fnames=['cat.{}.jpg'.format(i) for i in range(1000)]\n",
    "for fname in fnames:\n",
    "    src=os.path.join(original_data_dir, fname)\n",
    "    dst=os.path.join(train_cats_dir, fname)\n",
    "    shutil.copyfile(src, dst)\n",
    "fnames=['dog.{}.jpg'.format(i) for i in range(1000)]\n",
    "for fname in fnames:\n",
    "    src=os.path.join(original_data_dir, fname)\n",
    "    dst=os.path.join(train_dogs_dir, fname)\n",
    "    shutil.copyfile(src, dst)\n",
    "fnames=['cat.{}.jpg'.format(i) for i in range(1000, 1500)]\n",
    "for fname in fnames:\n",
    "    src=os.path.join(original_data_dir, fname)\n",
    "    dst=os.path.join(validation_cats_dir, fname)\n",
    "    shutil.copyfile(src, dst)\n",
    "fnames=['dog.{}.jpg'.format(i) for i in range(1000, 1500)]\n",
    "for fname in fnames:\n",
    "    src=os.path.join(original_data_dir, fname)\n",
    "    dst=os.path.join(validation_dogs_dir, fname)\n",
    "    shutil.copyfile(src, dst)\n",
    "fnames=['cat.{}.jpg'.format(i) for i in range(1500, 2000)]\n",
    "for fname in fnames:\n",
    "    src=os.path.join(original_data_dir, fname)\n",
    "    dst=os.path.join(test_cats_dir, fname)\n",
    "    shutil.copyfile(src, dst)\n",
    "fnames=['dog.{}.jpg'.format(i) for i in range(1500, 2000)]\n",
    "for fname in fnames:\n",
    "    src=os.path.join(original_data_dir, fname)\n",
    "    dst=os.path.join(test_dogs_dir, fname)\n",
    "    shutil.copyfile(src, dst)\n"
   ]
  },
  {
   "cell_type": "code",
   "execution_count": 10,
   "id": "e10782b9",
   "metadata": {},
   "outputs": [
    {
     "name": "stdout",
     "output_type": "stream",
     "text": [
      "Total no. of train cats = 1000\n",
      "Total no. of validation cats =  500\n",
      "Total no. of test cats =  500\n",
      "Total no. of train dogs = 1000\n",
      "Total no. of validation dogs =  500\n",
      "Total no. of test dogs =  500\n"
     ]
    }
   ],
   "source": [
    "print('Total no. of train cats =', len(os.listdir(train_cats_dir)))\n",
    "print('Total no. of validation cats = ', len(os.listdir(validation_cats_dir)))\n",
    "print('Total no. of test cats = ', len(os.listdir(test_cats_dir)))\n",
    "print('Total no. of train dogs =', len(os.listdir(train_dogs_dir)))\n",
    "print('Total no. of validation dogs = ', len(os.listdir(validation_dogs_dir)))\n",
    "print('Total no. of test dogs = ', len(os.listdir(test_dogs_dir)))"
   ]
  },
  {
   "cell_type": "code",
   "execution_count": 11,
   "id": "002ef6cf",
   "metadata": {},
   "outputs": [
    {
     "ename": "ModuleNotFoundError",
     "evalue": "No module named 'tensorflow.keras'",
     "output_type": "error",
     "traceback": [
      "\u001b[1;31m---------------------------------------------------------------------------\u001b[0m",
      "\u001b[1;31mModuleNotFoundError\u001b[0m                       Traceback (most recent call last)",
      "Cell \u001b[1;32mIn[11], line 2\u001b[0m\n\u001b[0;32m      1\u001b[0m \u001b[38;5;28;01mimport\u001b[39;00m \u001b[38;5;21;01mtensorflow\u001b[39;00m\n\u001b[1;32m----> 2\u001b[0m \u001b[38;5;28;01mfrom\u001b[39;00m \u001b[38;5;21;01mtensorflow\u001b[39;00m\u001b[38;5;21;01m.\u001b[39;00m\u001b[38;5;21;01mkeras\u001b[39;00m\u001b[38;5;21;01m.\u001b[39;00m\u001b[38;5;21;01mmodels\u001b[39;00m \u001b[38;5;28;01mimport\u001b[39;00m Sequential, load_model\n\u001b[0;32m      3\u001b[0m \u001b[38;5;28;01mfrom\u001b[39;00m \u001b[38;5;21;01mtensorflow\u001b[39;00m\u001b[38;5;21;01m.\u001b[39;00m\u001b[38;5;21;01mkeras\u001b[39;00m\u001b[38;5;21;01m.\u001b[39;00m\u001b[38;5;21;01mlayers\u001b[39;00m \u001b[38;5;28;01mimport\u001b[39;00m Dense, Flatten, Conv2D, MaxPooling2D\n\u001b[0;32m      4\u001b[0m \u001b[38;5;28;01mfrom\u001b[39;00m \u001b[38;5;21;01mtensorflow\u001b[39;00m\u001b[38;5;21;01m.\u001b[39;00m\u001b[38;5;21;01mkeras\u001b[39;00m \u001b[38;5;28;01mimport\u001b[39;00m optimizers\n",
      "\u001b[1;31mModuleNotFoundError\u001b[0m: No module named 'tensorflow.keras'"
     ]
    }
   ],
   "source": [
    "import tensorflow\n",
    "from tensorflow.keras.models import Sequential, load_model\n",
    "from tensorflow.keras.layers import Dense, Flatten, Conv2D, MaxPooling2D\n",
    "from tensorflow.keras import optimizers"
   ]
  },
  {
   "cell_type": "code",
   "execution_count": 15,
   "id": "5929044b",
   "metadata": {},
   "outputs": [
    {
     "ename": "ModuleNotFoundError",
     "evalue": "No module named 'tensorflow.keras'",
     "output_type": "error",
     "traceback": [
      "\u001b[1;31m---------------------------------------------------------------------------\u001b[0m",
      "\u001b[1;31mModuleNotFoundError\u001b[0m                       Traceback (most recent call last)",
      "Cell \u001b[1;32mIn[15], line 3\u001b[0m\n\u001b[0;32m      1\u001b[0m \u001b[38;5;66;03m# initiate a convnet for a dog cat classifier\u001b[39;00m\n\u001b[0;32m      2\u001b[0m \u001b[38;5;28;01mimport\u001b[39;00m \u001b[38;5;21;01mtensorflow\u001b[39;00m\n\u001b[1;32m----> 3\u001b[0m \u001b[38;5;28;01mfrom\u001b[39;00m \u001b[38;5;21;01mtensorflow\u001b[39;00m\u001b[38;5;21;01m.\u001b[39;00m\u001b[38;5;21;01mkeras\u001b[39;00m\u001b[38;5;21;01m.\u001b[39;00m\u001b[38;5;21;01mmodels\u001b[39;00m \u001b[38;5;28;01mimport\u001b[39;00m Sequential\n\u001b[0;32m      4\u001b[0m \u001b[38;5;28;01mfrom\u001b[39;00m \u001b[38;5;21;01mtensorflow\u001b[39;00m\u001b[38;5;21;01m.\u001b[39;00m\u001b[38;5;21;01mkeras\u001b[39;00m\u001b[38;5;21;01m.\u001b[39;00m\u001b[38;5;21;01mlayers\u001b[39;00m \u001b[38;5;28;01mimport\u001b[39;00m Dense, Flatten, Conv2D, MaxPooling2D\n\u001b[0;32m      6\u001b[0m model\u001b[38;5;241m=\u001b[39mSequential()\n",
      "\u001b[1;31mModuleNotFoundError\u001b[0m: No module named 'tensorflow.keras'"
     ]
    }
   ],
   "source": [
    "# initiate a convnet for a dog cat classifier\n",
    "import tensorflow\n",
    "from tensorflow.keras.models import Sequential\n",
    "from tensorflow.keras.layers import Dense, Flatten, Conv2D, MaxPooling2D\n",
    "\n",
    "model=Sequential()\n",
    "model.add(Conv2D(32, (3,3), activation='relu', input_shape=(150, 150, 3)))\n",
    "model.add(MaxPooling2D(2,2))\n",
    "model.add(Conv2D(64, (3,3), activation='relu'))\n",
    "model.add(MaxPooling2D(2,2))\n",
    "model.add(Conv2D(128, (3,3), activation='relu'))\n",
    "model.add(MaxPooling2D(2,2))\n",
    "model.add(Conv2D(128, (3,3), activation='relu'))\n",
    "model.add(MaxPooling2D(2,2))\n",
    "\n",
    "model.add(Flatten())\n",
    "model.add(Dense(512, activation='relu'))\n",
    "model.add(Dense(1, activation='sigmoid'))\n",
    "\n"
   ]
  },
  {
   "cell_type": "code",
   "execution_count": 13,
   "id": "331f322a",
   "metadata": {},
   "outputs": [
    {
     "name": "stdout",
     "output_type": "stream",
     "text": [
      "Model: \"sequential_1\"\n",
      "_________________________________________________________________\n",
      " Layer (type)                Output Shape              Param #   \n",
      "=================================================================\n",
      " conv2d_4 (Conv2D)           (None, 148, 148, 32)      896       \n",
      "                                                                 \n",
      " max_pooling2d_4 (MaxPooling  (None, 74, 74, 32)       0         \n",
      " 2D)                                                             \n",
      "                                                                 \n",
      " conv2d_5 (Conv2D)           (None, 72, 72, 64)        18496     \n",
      "                                                                 \n",
      " max_pooling2d_5 (MaxPooling  (None, 36, 36, 64)       0         \n",
      " 2D)                                                             \n",
      "                                                                 \n",
      " conv2d_6 (Conv2D)           (None, 34, 34, 128)       73856     \n",
      "                                                                 \n",
      " max_pooling2d_6 (MaxPooling  (None, 17, 17, 128)      0         \n",
      " 2D)                                                             \n",
      "                                                                 \n",
      " conv2d_7 (Conv2D)           (None, 15, 15, 128)       147584    \n",
      "                                                                 \n",
      " max_pooling2d_7 (MaxPooling  (None, 7, 7, 128)        0         \n",
      " 2D)                                                             \n",
      "                                                                 \n",
      " flatten_1 (Flatten)         (None, 6272)              0         \n",
      "                                                                 \n",
      " dense_1 (Dense)             (None, 512)               3211776   \n",
      "                                                                 \n",
      " dense_2 (Dense)             (None, 1)                 513       \n",
      "                                                                 \n",
      "=================================================================\n",
      "Total params: 3,453,121\n",
      "Trainable params: 3,453,121\n",
      "Non-trainable params: 0\n",
      "_________________________________________________________________\n"
     ]
    }
   ],
   "source": [
    "model.summary()"
   ]
  },
  {
   "cell_type": "code",
   "execution_count": 15,
   "id": "fa274b55",
   "metadata": {},
   "outputs": [],
   "source": [
    "#compile the model\n",
    "from tensorflow.keras import optimizers\n",
    "model.compile(loss='binary_crossentropy', optimizer=optimizers.RMSprop(learning_rate=0.0001),\n",
    "             metrics=['acc'])"
   ]
  },
  {
   "cell_type": "code",
   "execution_count": 17,
   "id": "b0f98891",
   "metadata": {},
   "outputs": [
    {
     "name": "stdout",
     "output_type": "stream",
     "text": [
      "Found 2000 images belonging to 2 classes.\n",
      "Found 1000 images belonging to 2 classes.\n"
     ]
    }
   ],
   "source": [
    "from tensorflow.keras.preprocessing.image import ImageDataGenerator\n",
    "train_datagen=ImageDataGenerator(1./255)\n",
    "test_datagen=ImageDataGenerator(1./255)\n",
    "\n",
    "train_generator=train_datagen.flow_from_directory(\n",
    "train_dir,\n",
    "target_size=(150, 150),\n",
    "batch_size=20,\n",
    "class_mode='binary'\n",
    ")\n",
    "\n",
    "validation_generator= test_datagen.flow_from_directory(\n",
    "validation_dir,\n",
    "target_size=(150, 150),\n",
    "batch_size=20,\n",
    "class_mode='binary')"
   ]
  },
  {
   "cell_type": "code",
   "execution_count": 18,
   "id": "0b3d8b09",
   "metadata": {},
   "outputs": [
    {
     "name": "stdout",
     "output_type": "stream",
     "text": [
      "Epoch 1/30\n"
     ]
    },
    {
     "name": "stderr",
     "output_type": "stream",
     "text": [
      "C:\\Users\\davidpratap\\AppData\\Roaming\\Python\\Python38\\site-packages\\keras\\preprocessing\\image.py:1861: UserWarning: This ImageDataGenerator specifies `featurewise_center`, but it hasn't been fit on any training data. Fit it first by calling `.fit(numpy_data)`.\n",
      "  warnings.warn(\n"
     ]
    },
    {
     "name": "stdout",
     "output_type": "stream",
     "text": [
      "100/100 [==============================] - 50s 492ms/step - loss: 3.6239 - acc: 0.5190 - val_loss: 0.7211 - val_acc: 0.5390\n",
      "Epoch 2/30\n",
      "100/100 [==============================] - 49s 492ms/step - loss: 0.6993 - acc: 0.5925 - val_loss: 0.7082 - val_acc: 0.5930\n",
      "Epoch 3/30\n",
      "100/100 [==============================] - 49s 489ms/step - loss: 0.6066 - acc: 0.6820 - val_loss: 0.8653 - val_acc: 0.5660\n",
      "Epoch 4/30\n",
      "100/100 [==============================] - 52s 516ms/step - loss: 0.5077 - acc: 0.7480 - val_loss: 0.8999 - val_acc: 0.6100\n",
      "Epoch 5/30\n",
      "100/100 [==============================] - 51s 506ms/step - loss: 0.4019 - acc: 0.8100 - val_loss: 1.0137 - val_acc: 0.5960\n",
      "Epoch 6/30\n",
      "100/100 [==============================] - 52s 519ms/step - loss: 0.3307 - acc: 0.8490 - val_loss: 0.9147 - val_acc: 0.6240\n",
      "Epoch 7/30\n",
      "100/100 [==============================] - 57s 570ms/step - loss: 0.2480 - acc: 0.8960 - val_loss: 0.8903 - val_acc: 0.6340\n",
      "Epoch 8/30\n",
      "100/100 [==============================] - 58s 581ms/step - loss: 0.2140 - acc: 0.9155 - val_loss: 1.0950 - val_acc: 0.6430\n",
      "Epoch 9/30\n",
      "100/100 [==============================] - 52s 517ms/step - loss: 0.1559 - acc: 0.9375 - val_loss: 1.0200 - val_acc: 0.6700\n",
      "Epoch 10/30\n",
      "100/100 [==============================] - 54s 535ms/step - loss: 0.1444 - acc: 0.9410 - val_loss: 1.1035 - val_acc: 0.6460\n",
      "Epoch 11/30\n",
      "100/100 [==============================] - 56s 557ms/step - loss: 0.1084 - acc: 0.9625 - val_loss: 1.3479 - val_acc: 0.6560\n",
      "Epoch 12/30\n",
      "100/100 [==============================] - 55s 550ms/step - loss: 0.1062 - acc: 0.9620 - val_loss: 1.2006 - val_acc: 0.6580\n",
      "Epoch 13/30\n",
      "100/100 [==============================] - 54s 543ms/step - loss: 0.0867 - acc: 0.9730 - val_loss: 1.3809 - val_acc: 0.6350\n",
      "Epoch 14/30\n",
      "100/100 [==============================] - 53s 535ms/step - loss: 0.0600 - acc: 0.9785 - val_loss: 1.8407 - val_acc: 0.6520\n",
      "Epoch 15/30\n",
      "100/100 [==============================] - 55s 549ms/step - loss: 0.0861 - acc: 0.9760 - val_loss: 1.4423 - val_acc: 0.6630\n",
      "Epoch 16/30\n",
      "100/100 [==============================] - 55s 547ms/step - loss: 0.0656 - acc: 0.9805 - val_loss: 1.6872 - val_acc: 0.6550\n",
      "Epoch 17/30\n",
      "100/100 [==============================] - 52s 521ms/step - loss: 0.0554 - acc: 0.9785 - val_loss: 1.6861 - val_acc: 0.6650\n",
      "Epoch 18/30\n",
      "100/100 [==============================] - 50s 503ms/step - loss: 0.0620 - acc: 0.9815 - val_loss: 1.6598 - val_acc: 0.6620\n",
      "Epoch 19/30\n",
      "100/100 [==============================] - 52s 523ms/step - loss: 0.0560 - acc: 0.9880 - val_loss: 1.6252 - val_acc: 0.6620\n",
      "Epoch 20/30\n",
      "100/100 [==============================] - 53s 528ms/step - loss: 0.0384 - acc: 0.9865 - val_loss: 1.7127 - val_acc: 0.6620\n",
      "Epoch 21/30\n",
      "100/100 [==============================] - 51s 509ms/step - loss: 0.0505 - acc: 0.9885 - val_loss: 5.5206 - val_acc: 0.5370\n",
      "Epoch 22/30\n",
      "100/100 [==============================] - 50s 498ms/step - loss: 0.0363 - acc: 0.9890 - val_loss: 1.7626 - val_acc: 0.6770\n",
      "Epoch 23/30\n",
      "100/100 [==============================] - 50s 499ms/step - loss: 0.0409 - acc: 0.9900 - val_loss: 1.7729 - val_acc: 0.6720\n",
      "Epoch 24/30\n",
      "100/100 [==============================] - 50s 498ms/step - loss: 0.0375 - acc: 0.9905 - val_loss: 2.0095 - val_acc: 0.6690\n",
      "Epoch 25/30\n",
      "100/100 [==============================] - 50s 503ms/step - loss: 0.0268 - acc: 0.9915 - val_loss: 2.0442 - val_acc: 0.6340\n",
      "Epoch 26/30\n",
      "100/100 [==============================] - 50s 496ms/step - loss: 0.0624 - acc: 0.9880 - val_loss: 2.0800 - val_acc: 0.6660\n",
      "Epoch 27/30\n",
      "100/100 [==============================] - 49s 494ms/step - loss: 0.0245 - acc: 0.9935 - val_loss: 2.0111 - val_acc: 0.6670\n",
      "Epoch 28/30\n",
      "100/100 [==============================] - 50s 503ms/step - loss: 0.0165 - acc: 0.9945 - val_loss: 2.0232 - val_acc: 0.6740\n",
      "Epoch 29/30\n",
      "100/100 [==============================] - 70s 522ms/step - loss: 0.0230 - acc: 0.9930 - val_loss: 2.2497 - val_acc: 0.6730\n",
      "Epoch 30/30\n",
      "100/100 [==============================] - 50s 500ms/step - loss: 0.0269 - acc: 0.9950 - val_loss: 2.1340 - val_acc: 0.6770\n"
     ]
    }
   ],
   "source": [
    "training=model.fit(\n",
    "train_generator,\n",
    "steps_per_epoch=100,\n",
    "epochs=30,\n",
    "validation_data=validation_generator,\n",
    "validation_steps=50)"
   ]
  },
  {
   "cell_type": "code",
   "execution_count": 19,
   "id": "e86aec19",
   "metadata": {},
   "outputs": [],
   "source": [
    "model.save('cats_dogs_small_1.h5')"
   ]
  },
  {
   "cell_type": "code",
   "execution_count": 29,
   "id": "9d7a6d7a",
   "metadata": {},
   "outputs": [
    {
     "data": {
      "image/png": "[encoded data removed]",
      "text/plain": [
       "<Figure size 640x480 with 1 Axes>"
      ]
     },
     "metadata": {},
     "output_type": "display_data"
    },
    {
     "data": {
      "image/png": "[encoded data removed]",
      "text/plain": [
       "<Figure size 640x480 with 1 Axes>"
      ]
     },
     "metadata": {},
     "output_type": "display_data"
    }
   ],
   "source": [
    "\n",
    "acc=training.history['acc']\n",
    "val_acc=training.history['val_acc']\n",
    "loss=training.history['loss']\n",
    "val_loss=training.history['val_acc']\n",
    "\n",
    "epochs=range(1, len(acc)+1)\n",
    "\n",
    "plt.plot(epochs, acc, 'bo', label='Training Accuracy')\n",
    "plt.plot(epochs, val_acc, 'b', label='Validation Accuracy')\n",
    "plt.title('Training and Validation Accuracy')\n",
    "plt.legend()\n",
    "\n",
    "plt.figure()\n",
    "plt.plot(epochs, loss, 'bo', label='Training Loss')\n",
    "plt.plot(epochs, val_loss, 'b', label='Validation Loss')\n",
    "plt.title('Training and Validation Loss')\n",
    "plt.legend()\n",
    "\n",
    "plt.show()"
   ]
  },
  {
   "cell_type": "markdown",
   "id": "5864f44c",
   "metadata": {},
   "source": [
    "### Using Data Augmentation"
   ]
  },
  {
   "cell_type": "code",
   "execution_count": 34,
   "id": "000c5744",
   "metadata": {},
   "outputs": [],
   "source": [
    "# initiate a convnet for a dog cat classifier\n",
    "from tensorflow.keras.models import Sequential\n",
    "from tensorflow.keras.layers import Dense, Flatten, Conv2D, MaxPooling2D, Dropout\n",
    "\n",
    "model=Sequential()\n",
    "model.add(Conv2D(32, (3,3), activation='relu', input_shape=(150, 150, 3)))\n",
    "model.add(MaxPooling2D(2,2))\n",
    "model.add(Conv2D(64, (3,3), activation='relu'))\n",
    "model.add(MaxPooling2D(2,2))\n",
    "model.add(Conv2D(128, (3,3), activation='relu'))\n",
    "model.add(MaxPooling2D(2,2))\n",
    "model.add(Conv2D(128, (3,3), activation='relu'))\n",
    "model.add(MaxPooling2D(2,2))\n",
    "\n",
    "model.add(Flatten())\n",
    "model.add(Dropout(0.5))\n",
    "model.add(Dense(512, activation='relu'))\n",
    "model.add(Dense(1, activation='sigmoid'))\n",
    "\n",
    "model.compile(loss='binary_crossentropy', optimizer=optimizers.RMSprop(learning_rate=0.0001),\n",
    "                                                                      metrics=['acc'])"
   ]
  },
  {
   "cell_type": "code",
   "execution_count": 40,
   "id": "ff9c6855",
   "metadata": {},
   "outputs": [
    {
     "name": "stdout",
     "output_type": "stream",
     "text": [
      "Found 2000 images belonging to 2 classes.\n",
      "Found 1000 images belonging to 2 classes.\n",
      "Epoch 1/30\n",
      "100/100 [==============================] - 51s 508ms/step - loss: 0.6967 - acc: 0.5075 - val_loss: 0.6892 - val_acc: 0.5010\n",
      "Epoch 2/30\n",
      "100/100 [==============================] - 53s 530ms/step - loss: 0.6917 - acc: 0.5235 - val_loss: 0.6837 - val_acc: 0.6000\n",
      "Epoch 3/30\n",
      "100/100 [==============================] - 51s 511ms/step - loss: 0.6867 - acc: 0.5425 - val_loss: 0.6801 - val_acc: 0.5260\n",
      "Epoch 4/30\n",
      "100/100 [==============================] - 52s 514ms/step - loss: 0.6763 - acc: 0.5810 - val_loss: 0.6664 - val_acc: 0.5730\n",
      "Epoch 5/30\n",
      "100/100 [==============================] - 52s 520ms/step - loss: 0.6722 - acc: 0.5720 - val_loss: 0.6544 - val_acc: 0.6150\n",
      "Epoch 6/30\n",
      "100/100 [==============================] - 52s 518ms/step - loss: 0.6646 - acc: 0.5980 - val_loss: 0.6446 - val_acc: 0.6170\n",
      "Epoch 7/30\n",
      "100/100 [==============================] - 52s 524ms/step - loss: 0.6586 - acc: 0.6265 - val_loss: 0.6380 - val_acc: 0.6210\n",
      "Epoch 8/30\n",
      "100/100 [==============================] - 52s 520ms/step - loss: 0.6517 - acc: 0.6220 - val_loss: 0.6230 - val_acc: 0.6540\n",
      "Epoch 9/30\n",
      "100/100 [==============================] - 52s 518ms/step - loss: 0.6451 - acc: 0.6335 - val_loss: 0.6350 - val_acc: 0.6250\n",
      "Epoch 10/30\n",
      "100/100 [==============================] - 52s 523ms/step - loss: 0.6310 - acc: 0.6470 - val_loss: 0.5989 - val_acc: 0.6830\n",
      "Epoch 11/30\n",
      "100/100 [==============================] - 57s 568ms/step - loss: 0.6268 - acc: 0.6445 - val_loss: 0.5977 - val_acc: 0.6850\n",
      "Epoch 12/30\n",
      "100/100 [==============================] - 54s 542ms/step - loss: 0.6171 - acc: 0.6620 - val_loss: 0.6009 - val_acc: 0.6720\n",
      "Epoch 13/30\n",
      "100/100 [==============================] - 55s 547ms/step - loss: 0.6116 - acc: 0.6595 - val_loss: 0.5679 - val_acc: 0.7080\n",
      "Epoch 14/30\n",
      "100/100 [==============================] - 52s 520ms/step - loss: 0.6006 - acc: 0.6690 - val_loss: 0.5853 - val_acc: 0.6790\n",
      "Epoch 15/30\n",
      "100/100 [==============================] - 52s 521ms/step - loss: 0.5909 - acc: 0.6895 - val_loss: 0.5783 - val_acc: 0.6890\n",
      "Epoch 16/30\n",
      "100/100 [==============================] - 55s 547ms/step - loss: 0.5895 - acc: 0.6885 - val_loss: 0.5667 - val_acc: 0.6960\n",
      "Epoch 17/30\n",
      "100/100 [==============================] - 55s 547ms/step - loss: 0.5848 - acc: 0.6840 - val_loss: 0.5579 - val_acc: 0.6970\n",
      "Epoch 18/30\n",
      "100/100 [==============================] - 55s 553ms/step - loss: 0.5859 - acc: 0.6805 - val_loss: 0.5602 - val_acc: 0.7090\n",
      "Epoch 19/30\n",
      "100/100 [==============================] - 53s 531ms/step - loss: 0.5825 - acc: 0.6840 - val_loss: 0.5420 - val_acc: 0.7230\n",
      "Epoch 20/30\n",
      "100/100 [==============================] - 54s 540ms/step - loss: 0.5713 - acc: 0.7010 - val_loss: 0.5297 - val_acc: 0.7310\n",
      "Epoch 21/30\n",
      "100/100 [==============================] - 53s 532ms/step - loss: 0.5730 - acc: 0.7000 - val_loss: 0.5439 - val_acc: 0.7140\n",
      "Epoch 22/30\n",
      "100/100 [==============================] - 56s 558ms/step - loss: 0.5653 - acc: 0.7035 - val_loss: 0.5155 - val_acc: 0.7380\n",
      "Epoch 23/30\n",
      "100/100 [==============================] - 55s 545ms/step - loss: 0.5629 - acc: 0.7120 - val_loss: 0.5998 - val_acc: 0.6630\n",
      "Epoch 24/30\n",
      "100/100 [==============================] - 54s 538ms/step - loss: 0.5525 - acc: 0.7105 - val_loss: 0.5118 - val_acc: 0.7520\n",
      "Epoch 25/30\n",
      "100/100 [==============================] - 54s 536ms/step - loss: 0.5489 - acc: 0.7230 - val_loss: 0.5211 - val_acc: 0.7330\n",
      "Epoch 26/30\n",
      "100/100 [==============================] - 56s 563ms/step - loss: 0.5464 - acc: 0.7275 - val_loss: 0.4986 - val_acc: 0.7510\n",
      "Epoch 27/30\n",
      "100/100 [==============================] - 57s 573ms/step - loss: 0.5542 - acc: 0.7060 - val_loss: 0.5034 - val_acc: 0.7560\n",
      "Epoch 28/30\n",
      "100/100 [==============================] - 58s 583ms/step - loss: 0.5470 - acc: 0.7210 - val_loss: 0.5753 - val_acc: 0.6990\n",
      "Epoch 29/30\n",
      "100/100 [==============================] - 58s 581ms/step - loss: 0.5369 - acc: 0.7285 - val_loss: 0.5347 - val_acc: 0.7240\n",
      "Epoch 30/30\n",
      "100/100 [==============================] - 52s 524ms/step - loss: 0.5272 - acc: 0.7285 - val_loss: 0.4953 - val_acc: 0.7500\n"
     ]
    }
   ],
   "source": [
    "train_datagen=ImageDataGenerator(\n",
    "    rescale=1./255,\n",
    "    rotation_range=40,\n",
    "    width_shift_range=0.2,\n",
    "    height_shift_range=0.2,\n",
    "    shear_range=0.2,\n",
    "    zoom_range=0.2,\n",
    "    horizontal_flip=True,\n",
    "    fill_mode='nearest')\n",
    "\n",
    "test_datagen=ImageDataGenerator(rescale=1./255)\n",
    "train_generator=train_datagen.flow_from_directory(\n",
    "train_dir,\n",
    "target_size=(150, 150),\n",
    "batch_size=20,\n",
    "class_mode='binary')\n",
    "\n",
    "validation_generator=test_datagen.flow_from_directory(\n",
    "validation_dir,\n",
    "target_size=(150, 150),\n",
    "batch_size=20,\n",
    "class_mode='binary')\n",
    "\n",
    "history=model.fit(\n",
    "train_generator, \n",
    "steps_per_epoch=100,\n",
    "epochs=30,\n",
    "validation_data=validation_generator,\n",
    "validation_steps=50\n",
    ")"
   ]
  },
  {
   "cell_type": "code",
   "execution_count": 33,
   "id": "a4abcc7f",
   "metadata": {},
   "outputs": [],
   "source": [
    "def plot_metrics(training, epochs):\n",
    "    import matplotlib.pyplot as plt\n",
    "    acc=training.history['acc']\n",
    "    val_acc=training.history['val_acc']\n",
    "    loss=training.history['loss']\n",
    "    val_loss=training.history['val_loss']\n",
    "\n",
    "    epochs=range(1, len(acc)+1)\n",
    "    plt.plot(epochs, acc, 'bo', label='Training Accuracy')\n",
    "    plt.plot(epochs, val_acc, 'b', label='Validation accuracy')\n",
    "    plt.xlabel(epochs)\n",
    "    plt.ylabel('Accuracies')\n",
    "    plt.title(\"Training and Validation Accuracy\")\n",
    "    plt.legend()\n",
    "\n",
    "    plt.figure()\n",
    "    plt.plot(epochs, loss, 'bo', label='Training Loss')\n",
    "    plt.plot(epochs, val_acc, 'b', label='Validation Loss')\n",
    "    plt.xlabel(epochs)\n",
    "    plt.ylabel('Loss')\n",
    "    plt.title(\"Training and Validation Loss\")\n",
    "    plt.legend()\n",
    "\n",
    "    plt.show()"
   ]
  },
  {
   "cell_type": "code",
   "execution_count": 42,
   "id": "5e8659c8",
   "metadata": {},
   "outputs": [
    {
     "data": {
      "image/png": "[encoded data removed]",
      "text/plain": [
       "<Figure size 640x480 with 1 Axes>"
      ]
     },
     "metadata": {},
     "output_type": "display_data"
    },
    {
     "data": {
      "image/png": "[encoded data removed]",
      "text/plain": [
       "<Figure size 640x480 with 1 Axes>"
      ]
     },
     "metadata": {},
     "output_type": "display_data"
    }
   ],
   "source": [
    "plot_metrics(training=history,epochs=30 )"
   ]
  },
  {
   "cell_type": "code",
   "execution_count": 43,
   "id": "f4b6ca57",
   "metadata": {},
   "outputs": [],
   "source": [
    "model.save('cats_dogs_small_2.h5')"
   ]
  },
  {
   "cell_type": "markdown",
   "id": "9692270c",
   "metadata": {},
   "source": [
    "### Transfer Learning"
   ]
  },
  {
   "cell_type": "code",
   "execution_count": 34,
   "id": "210a2518",
   "metadata": {},
   "outputs": [],
   "source": [
    "import tensorflow\n",
    "from tensorflow.keras.applications import VGG16"
   ]
  },
  {
   "cell_type": "code",
   "execution_count": 35,
   "id": "bad0b6a4",
   "metadata": {},
   "outputs": [],
   "source": [
    "conv_base=VGG16(weights='imagenet', include_top=False, input_shape=(150, 150, 3))"
   ]
  },
  {
   "cell_type": "code",
   "execution_count": 36,
   "id": "3a590436",
   "metadata": {},
   "outputs": [
    {
     "name": "stdout",
     "output_type": "stream",
     "text": [
      "Model: \"vgg16\"\n",
      "_________________________________________________________________\n",
      " Layer (type)                Output Shape              Param #   \n",
      "=================================================================\n",
      " input_2 (InputLayer)        [(None, 150, 150, 3)]     0         \n",
      "                                                                 \n",
      " block1_conv1 (Conv2D)       (None, 150, 150, 64)      1792      \n",
      "                                                                 \n",
      " block1_conv2 (Conv2D)       (None, 150, 150, 64)      36928     \n",
      "                                                                 \n",
      " block1_pool (MaxPooling2D)  (None, 75, 75, 64)        0         \n",
      "                                                                 \n",
      " block2_conv1 (Conv2D)       (None, 75, 75, 128)       73856     \n",
      "                                                                 \n",
      " block2_conv2 (Conv2D)       (None, 75, 75, 128)       147584    \n",
      "                                                                 \n",
      " block2_pool (MaxPooling2D)  (None, 37, 37, 128)       0         \n",
      "                                                                 \n",
      " block3_conv1 (Conv2D)       (None, 37, 37, 256)       295168    \n",
      "                                                                 \n",
      " block3_conv2 (Conv2D)       (None, 37, 37, 256)       590080    \n",
      "                                                                 \n",
      " block3_conv3 (Conv2D)       (None, 37, 37, 256)       590080    \n",
      "                                                                 \n",
      " block3_pool (MaxPooling2D)  (None, 18, 18, 256)       0         \n",
      "                                                                 \n",
      " block4_conv1 (Conv2D)       (None, 18, 18, 512)       1180160   \n",
      "                                                                 \n",
      " block4_conv2 (Conv2D)       (None, 18, 18, 512)       2359808   \n",
      "                                                                 \n",
      " block4_conv3 (Conv2D)       (None, 18, 18, 512)       2359808   \n",
      "                                                                 \n",
      " block4_pool (MaxPooling2D)  (None, 9, 9, 512)         0         \n",
      "                                                                 \n",
      " block5_conv1 (Conv2D)       (None, 9, 9, 512)         2359808   \n",
      "                                                                 \n",
      " block5_conv2 (Conv2D)       (None, 9, 9, 512)         2359808   \n",
      "                                                                 \n",
      " block5_conv3 (Conv2D)       (None, 9, 9, 512)         2359808   \n",
      "                                                                 \n",
      " block5_pool (MaxPooling2D)  (None, 4, 4, 512)         0         \n",
      "                                                                 \n",
      "=================================================================\n",
      "Total params: 14,714,688\n",
      "Trainable params: 14,714,688\n",
      "Non-trainable params: 0\n",
      "_________________________________________________________________\n"
     ]
    }
   ],
   "source": [
    "conv_base.summary()"
   ]
  },
  {
   "cell_type": "code",
   "execution_count": 37,
   "id": "af54e67c",
   "metadata": {},
   "outputs": [],
   "source": [
    "from tensorflow.keras.models import Sequential\n",
    "from tensorflow.keras.layers import Dense, Flatten\n",
    "model=Sequential()\n",
    "model.add(conv_base)\n",
    "model.add(Flatten())\n",
    "model.add(Dense(256, activation='relu'))\n",
    "model.add(Dense(1, activation='sigmoid'))"
   ]
  },
  {
   "cell_type": "code",
   "execution_count": 38,
   "id": "40e88a79",
   "metadata": {},
   "outputs": [
    {
     "name": "stdout",
     "output_type": "stream",
     "text": [
      "Model: \"sequential_1\"\n",
      "_________________________________________________________________\n",
      " Layer (type)                Output Shape              Param #   \n",
      "=================================================================\n",
      " vgg16 (Functional)          (None, 4, 4, 512)         14714688  \n",
      "                                                                 \n",
      " flatten_1 (Flatten)         (None, 8192)              0         \n",
      "                                                                 \n",
      " dense_2 (Dense)             (None, 256)               2097408   \n",
      "                                                                 \n",
      " dense_3 (Dense)             (None, 1)                 257       \n",
      "                                                                 \n",
      "=================================================================\n",
      "Total params: 16,812,353\n",
      "Trainable params: 16,812,353\n",
      "Non-trainable params: 0\n",
      "_________________________________________________________________\n"
     ]
    }
   ],
   "source": [
    "model.summary()"
   ]
  },
  {
   "cell_type": "code",
   "execution_count": 39,
   "id": "dfc2fd50",
   "metadata": {},
   "outputs": [],
   "source": [
    "conv_base.trainable=False"
   ]
  },
  {
   "cell_type": "code",
   "execution_count": 40,
   "id": "07ae27d0",
   "metadata": {},
   "outputs": [
    {
     "name": "stdout",
     "output_type": "stream",
     "text": [
      "Found 2000 images belonging to 2 classes.\n",
      "Found 1000 images belonging to 2 classes.\n",
      "Epoch 1/5\n",
      "100/100 [==============================] - 187s 2s/step - loss: 0.5910 - acc: 0.6835 - val_loss: 0.4469 - val_acc: 0.8260\n",
      "Epoch 2/5\n",
      "100/100 [==============================] - 177s 2s/step - loss: 0.4869 - acc: 0.7735 - val_loss: 0.3816 - val_acc: 0.8470\n",
      "Epoch 3/5\n",
      "100/100 [==============================] - 190s 2s/step - loss: 0.4435 - acc: 0.8030 - val_loss: 0.3320 - val_acc: 0.8710\n",
      "Epoch 4/5\n",
      "100/100 [==============================] - 182s 2s/step - loss: 0.4128 - acc: 0.8135 - val_loss: 0.3137 - val_acc: 0.8670\n",
      "Epoch 5/5\n",
      "100/100 [==============================] - 178s 2s/step - loss: 0.3947 - acc: 0.8210 - val_loss: 0.2981 - val_acc: 0.8780\n"
     ]
    }
   ],
   "source": [
    "from tensorflow.keras.preprocessing.image import ImageDataGenerator\n",
    "from tensorflow.keras import optimizers\n",
    "train_datagen=ImageDataGenerator(\n",
    "    rescale=1./255,\n",
    "    rotation_range=40,\n",
    "    width_shift_range=0.2,\n",
    "    height_shift_range=0.2,\n",
    "    shear_range=0.2,\n",
    "    zoom_range=0.2,\n",
    "    horizontal_flip=True,\n",
    "    fill_mode='nearest')\n",
    "\n",
    "test_datagen=ImageDataGenerator(rescale=1./255)\n",
    "train_generator=train_datagen.flow_from_directory(\n",
    "train_dir,\n",
    "target_size=(150, 150),\n",
    "batch_size=20,\n",
    "class_mode='binary')\n",
    "\n",
    "validation_generator=test_datagen.flow_from_directory(\n",
    "validation_dir,\n",
    "target_size=(150, 150),\n",
    "batch_size=20,\n",
    "class_mode='binary')\n",
    "\n",
    "model.compile(loss='binary_crossentropy',\n",
    "optimizer=optimizers.RMSprop(learning_rate=0.00002),\n",
    "metrics=['acc'])\n",
    "\n",
    "history=model.fit(\n",
    "train_generator, \n",
    "steps_per_epoch=100,\n",
    "epochs=5,\n",
    "validation_data=validation_generator,\n",
    "validation_steps=50\n",
    ")"
   ]
  },
  {
   "cell_type": "code",
   "execution_count": 41,
   "id": "c6ad9625",
   "metadata": {},
   "outputs": [],
   "source": [
    "model.save('cats_dogs_small_3.h5')"
   ]
  },
  {
   "cell_type": "markdown",
   "id": "37074efc",
   "metadata": {},
   "source": [
    "### Deploy the model in streamlit"
   ]
  },
  {
   "cell_type": "code",
   "execution_count": 42,
   "id": "de68fec5",
   "metadata": {},
   "outputs": [
    {
     "name": "stdout",
     "output_type": "stream",
     "text": [
      "Overwriting app.py\n"
     ]
    }
   ],
   "source": [
    "%%writefile app.py\n",
    "import astre\n",
    "import numpy as np\n",
    "import tensorflow\n",
    "from tensorflow.keras.models import load_model\n",
    "from tensorflow.keras.preprocessing import image\n",
    "from PIL import Image\n",
    "import matplotlib.pyplot as plt\n",
    "st.set_option('deprecation.showPyplotGlobalUse', False)\n",
    "st.title(\"Dog Cat Classifier Uisng Tensorflow and Keras\")\n",
    "\n",
    "# Step1 Load the save d model\n",
    "model=load_model('cats_dogs_small_3.h5')\n",
    "\n",
    "# Step2 : Upload the file and get he details\n",
    "uploaded_file=st.file_uploader(\"Choose the database\", accept_multiple_files=False)\n",
    "if uploaded_file is not None:\n",
    "    file_name=uploaded_file\n",
    "else:\n",
    "    file_name='image1.jpg'\n",
    "file_path=file_name\n",
    "\n",
    "# Step3: Preprocess the image\n",
    "my_image=image.load_img(file_path, target_size=(150, 150))\n",
    "my_image_array=image.img_to_array(my_image)\n",
    "my_image_array=np.expand_dims(my_image_array, axis=0)\n",
    "if st.checkbox(\"View the Image\", False):\n",
    "    image=Image.open(uploaded_file)\n",
    "    st.image(image)\n",
    "    \n",
    "\n",
    "# Step4\" Get he prediction\n",
    "prediction=int(model.predict(my_image_array)[0][0])\n",
    "if st.button(\"Predict\"):\n",
    "    if prediction==0:\n",
    "        st.subheader(\"Its a Cat\")\n",
    "    if prediction==1:\n",
    "        st.subheader(\"Its a Dog\")"
   ]
  },
  {
   "cell_type": "code",
   "execution_count": null,
   "id": "848d67b9",
   "metadata": {},
   "outputs": [],
   "source": []
  }
 ],
 "metadata": {
  "kernelspec": {
   "display_name": "Python 3 (ipykernel)",
   "language": "python",
   "name": "python3"
  },
  "language_info": {
   "codemirror_mode": {
    "name": "ipython",
    "version": 3
   },
   "file_extension": ".py",
   "mimetype": "text/x-python",
   "name": "python",
   "nbconvert_exporter": "python",
   "pygments_lexer": "ipython3",
   "version": "3.8.16"
  }
 },
 "nbformat": 4,
 "nbformat_minor": 5
}
